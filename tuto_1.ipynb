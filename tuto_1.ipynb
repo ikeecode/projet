{
  "nbformat": 4,
  "nbformat_minor": 0,
  "metadata": {
    "colab": {
      "name": "tuto_1.ipynb",
      "provenance": [],
      "collapsed_sections": [],
      "authorship_tag": "ABX9TyNotYRZNvXTrcurMV1fwCgd",
      "include_colab_link": true
    },
    "kernelspec": {
      "name": "python3",
      "display_name": "Python 3"
    },
    "language_info": {
      "name": "python"
    }
  },
  "cells": [
    {
      "cell_type": "markdown",
      "metadata": {
        "id": "view-in-github",
        "colab_type": "text"
      },
      "source": [
        "<a href=\"https://colab.research.google.com/github/ikeecode/projet/blob/main/tuto_1.ipynb\" target=\"_parent\"><img src=\"https://colab.research.google.com/assets/colab-badge.svg\" alt=\"Open In Colab\"/></a>"
      ]
    },
    {
      "cell_type": "markdown",
      "metadata": {
        "id": "L4hNE8fOzKbN"
      },
      "source": [
        "**Rule Based Text Phrase Extraction and Matching using SpaCy in NLP**"
      ]
    },
    {
      "cell_type": "markdown",
      "metadata": {
        "id": "Cf9n6uh_zN_D"
      },
      "source": [
        "#installation of spacy \n",
        "!pip install spacy\n"
      ]
    },
    {
      "cell_type": "code",
      "metadata": {
        "id": "uZYI5rYA1KMj"
      },
      "source": [
        "!python -m spacy download en_core_web_lg"
      ],
      "execution_count": null,
      "outputs": []
    },
    {
      "cell_type": "code",
      "metadata": {
        "id": "NjMn9ug7218m"
      },
      "source": [
        ""
      ],
      "execution_count": null,
      "outputs": []
    }
  ]
}