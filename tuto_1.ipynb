{
  "nbformat": 4,
  "nbformat_minor": 0,
  "metadata": {
    "colab": {
      "name": "tuto_1.ipynb",
      "provenance": [],
      "collapsed_sections": [],
      "authorship_tag": "ABX9TyPEKrccS7lHOs6EYubR0XRp",
      "include_colab_link": true
    },
    "kernelspec": {
      "name": "python3",
      "display_name": "Python 3"
    },
    "language_info": {
      "name": "python"
    }
  },
  "cells": [
    {
      "cell_type": "markdown",
      "metadata": {
        "id": "view-in-github",
        "colab_type": "text"
      },
      "source": [
        "<a href=\"https://colab.research.google.com/github/ikeecode/projet/blob/main/tuto_1.ipynb\" target=\"_parent\"><img src=\"https://colab.research.google.com/assets/colab-badge.svg\" alt=\"Open In Colab\"/></a>"
      ]
    },
    {
      "cell_type": "markdown",
      "metadata": {
        "id": "L4hNE8fOzKbN"
      },
      "source": [
        "**Rule Based Text Phrase Extraction and Matching using SpaCy in NLP**"
      ]
    },
    {
      "cell_type": "markdown",
      "metadata": {
        "id": "nLLqlOVxBgxV"
      },
      "source": [
        "https://www.youtube.com/watch?v=08NbfA9od9w : youtube link\n"
      ]
    },
    {
      "cell_type": "markdown",
      "metadata": {
        "id": "Cf9n6uh_zN_D"
      },
      "source": [
        "#installation of spacy \n",
        "!pip install spacy\n"
      ]
    },
    {
      "cell_type": "code",
      "metadata": {
        "id": "uZYI5rYA1KMj"
      },
      "source": [
        "!python -m spacy download en_core_web_lg\n",
        "!pip3 install https://github.com/explosion/spacy-models/releases/download/en_core_web_sm-2.2.0/en_core_web_sm-2.2.0.tar.gz"
      ],
      "execution_count": null,
      "outputs": []
    },
    {
      "cell_type": "markdown",
      "metadata": {
        "id": "GyzIVQWj9NP3"
      },
      "source": [
        "Importation des differents modules\n"
      ]
    },
    {
      "cell_type": "code",
      "metadata": {
        "id": "NjMn9ug7218m"
      },
      "source": [
        "import spacy\n",
        "import en_core_web_lg\n",
        "from spacy.tokens import Span\n",
        "from spacy.matcher import Matcher\n",
        "from spacy import displacy\n",
        "\n",
        "nlp = en_core_web_lg.load()"
      ],
      "execution_count": null,
      "outputs": []
    },
    {
      "cell_type": "code",
      "metadata": {
        "id": "SQ2cmc2a57Ui"
      },
      "source": [
        "doc = nlp(u\"Hello world !\")\n",
        "for token in doc:\n",
        "  print(token)"
      ],
      "execution_count": null,
      "outputs": []
    },
    {
      "cell_type": "code",
      "metadata": {
        "id": "-NY44Oy99E_H"
      },
      "source": [
        "pattern = [{ \"LOWER\": \"hello\", \"IS_PUNCT\": True, \"LOWER\" : \"world\" }]"
      ],
      "execution_count": 46,
      "outputs": []
    },
    {
      "cell_type": "code",
      "metadata": {
        "id": "sLdntSUE9Iys"
      },
      "source": [
        "matcher = Matcher(nlp.vocab)\n",
        "matcher.add('Hello World', None, pattern)"
      ],
      "execution_count": 47,
      "outputs": []
    },
    {
      "cell_type": "code",
      "metadata": {
        "id": "LfDEDdhF9pWZ"
      },
      "source": [
        "doc = nlp(u\"Hello world!\")"
      ],
      "execution_count": 48,
      "outputs": []
    },
    {
      "cell_type": "code",
      "metadata": {
        "id": "Pnop01B090SR"
      },
      "source": [
        "matches = matcher(doc)"
      ],
      "execution_count": 49,
      "outputs": []
    },
    {
      "cell_type": "code",
      "metadata": {
        "colab": {
          "base_uri": "https://localhost:8080/"
        },
        "id": "yMUW6-d098bd",
        "outputId": "15ecaf3e-328a-4070-fb3f-9d6559f71165"
      },
      "source": [
        "matches"
      ],
      "execution_count": 50,
      "outputs": [
        {
          "output_type": "execute_result",
          "data": {
            "text/plain": [
              "[]"
            ]
          },
          "metadata": {
            "tags": []
          },
          "execution_count": 50
        }
      ]
    }
  ]
}